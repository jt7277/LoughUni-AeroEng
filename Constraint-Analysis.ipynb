{
 "cells": [
  {
   "attachments": {},
   "cell_type": "markdown",
   "metadata": {},
   "source": [
    "# __Constraint Analysis Notebook__\n",
    "\n",
    "## *This Notebook demonstrates the Constraint analysis procedure for Aircraft Design in its entirety*\n",
    "###         for 22TTC010 __Aircraft Design__"
   ]
  },
  {
   "attachments": {},
   "cell_type": "markdown",
   "metadata": {},
   "source": [
    "#### __Step 0:__ importing relevant libraries"
   ]
  },
  {
   "cell_type": "code",
   "execution_count": null,
   "metadata": {},
   "outputs": [],
   "source": [
    "import numpy as np\n",
    "import matplotlib.pyplot as plt\n",
    "import pandas as pd"
   ]
  },
  {
   "attachments": {},
   "cell_type": "markdown",
   "metadata": {},
   "source": [
    "#### **Step 1:** finding atmospheric data\n",
    "[returns a tuple of relative temperature, pressure and density]"
   ]
  },
  {
   "cell_type": "code",
   "execution_count": null,
   "metadata": {},
   "outputs": [],
   "source": [
    "def Atmos(h):\n",
    "    '''takes input height in metres and calculates relative temperature, pressure and density'''\n",
    "    # constants\n",
    "    R = 287.05827 #m2s-2K-1\n",
    "    g0 = 9.80665 #ms-2\n",
    "    T0 = 288.15 #K\n",
    "    L = -6.5*1e-3 # lapse rate K/m\n",
    "    Hstar = 11000 # tropopause (boundary separating troposphere from stratosphere)\n",
    "\n",
    "    if h <= Hstar:\n",
    "        #relative properties\n",
    "        theta = 1 +L/T0*h\n",
    "        delta = (theta)**(-go/(R*L))\n",
    "        sigma = (theta)**(-g0(R*L)-1)\n",
    "\n",
    "    else:\n",
    "        #relative properties\n",
    "        thetastar = 1 + L/T0+Hstar\n",
    "        deltastar = (thetastar)**(-g0/(R*L))\n",
    "        sigmastar = (thetastar)**(-g0/(R*L)-1)\n",
    "        Tstar =thetastar*T0 #Kelvin\n",
    "\n",
    "        theta = thetastar\n",
    "        delta = deltastar\n",
    "        sigma = sigmastar\n",
    "\n",
    "\n",
    "\n",
    "    return (theta, delta, sigma)"
   ]
  },
  {
   "attachments": {},
   "cell_type": "markdown",
   "metadata": {},
   "source": [
    "#### *Physical Constants and Conversions:*"
   ]
  },
  {
   "cell_type": "code",
   "execution_count": null,
   "metadata": {},
   "outputs": [],
   "source": [
    "gamma = 1.4\n",
    "R = 287.05827 #m2s-2K-1\n",
    "g0 = 9.80665 #ms-2\n",
    "T0 = 288.15 #K\n",
    "P0 = 101325 #Pa\n",
    "rho0 = P0/(R*T0) #kgm-3\n",
    "\n",
    "ft2m = 0.3048\n",
    "kts2ms = 0.5144"
   ]
  },
  {
   "attachments": {},
   "cell_type": "markdown",
   "metadata": {},
   "source": [
    "#### __Step 2:__ define the military engine model (__Mattingley__)"
   ]
  },
  {
   "cell_type": "code",
   "execution_count": null,
   "metadata": {},
   "outputs": [],
   "source": [
    "def alphaMili(h, Mach, case=1):\n",
    "    (theta, delta, sigma) = Atmos(h)\n",
    "\n",
    "    if case == 1: #dry\n",
    "        return 0.72*(0.88+0.245*(abs(Mach-0.6))**1.4)*sigma**0.7\n",
    "    elif case == 2: #reheat\n",
    "        return (0.94+0.38*(Mach-0.5)**2)*sigma**0.7"
   ]
  },
  {
   "attachments": {},
   "cell_type": "markdown",
   "metadata": {},
   "source": [
    "#### __Step 3:__ define the Master Performance equation"
   ]
  },
  {
   "cell_type": "code",
   "execution_count": null,
   "metadata": {},
   "outputs": [],
   "source": [
    "def Master(WtoS, alpha, beta, q, Cd0, k1, n=1.0, oneoverVdhdt=0, oneovergdVdt=0):\n",
    "    return (beta/alpha)*(q/(beta*WtoS)*(Cd0+k1*(n*beta/q*WtoS)**2)+oneoverVdhdt+ oneovergdVdt)"
   ]
  },
  {
   "attachments": {},
   "cell_type": "markdown",
   "metadata": {},
   "source": [
    "#### __Step 4:__ define the Approach Speed equation"
   ]
  },
  {
   "cell_type": "code",
   "execution_count": null,
   "metadata": {},
   "outputs": [],
   "source": [
    "def TslWtoApp(WtoS, beta, rho, CLmax, Vapp):\n",
    "    Vstall = Vapp/1.3\n",
    "    q = 0.5*rho*Vstall**2\n",
    "    WtoSApp = q*CLmax/beta\n",
    "    #creating a vertical line\n",
    "    if WtoS < WtoSApp:\n",
    "        return -50000.0 #arbitrarily large figure\n",
    "    else:\n",
    "        return +50000.0"
   ]
  },
  {
   "attachments": {},
   "cell_type": "markdown",
   "metadata": {},
   "source": [
    "#### __Step 5:__ define the Take-off Distance equation"
   ]
  },
  {
   "cell_type": "code",
   "execution_count": null,
   "metadata": {},
   "outputs": [],
   "source": [
    "def TslWtoTO(WtoS, alpha, beta, rho, CLmax, mu, g, kL, sL):\n",
    "    return ((beta**2/alpha*kL0**2/sG*rho*g*CLmaxL0)*WtoS)"
   ]
  },
  {
   "attachments": {},
   "cell_type": "markdown",
   "metadata": {},
   "source": [
    "#### __Step 6:__ define the Landing Distance equation"
   ]
  },
  {
   "cell_type": "code",
   "execution_count": null,
   "metadata": {},
   "outputs": [],
   "source": [
    "def TslWtoLand(WtoS, beta, rho, CLmax, mu, g, kL, sL):\n",
    "    WtoSLand = sL*mu*rho*CLmax/(beta*kL**2)\n",
    "    #creating a vertical line\n",
    "    if WtoS < WtoSLand:\n",
    "        return -50000.0\n",
    "    else:\n",
    "        return +50000.0"
   ]
  },
  {
   "attachments": {},
   "cell_type": "markdown",
   "metadata": {},
   "source": [
    "#### __Step 7:__ defining Aerodynamic assumptions"
   ]
  },
  {
   "cell_type": "code",
   "execution_count": null,
   "metadata": {},
   "outputs": [],
   "source": [
    "Cd0 = 0.015\n",
    "Cd0Sup = 2.0*Cd0\n",
    "AR = 3.0\n",
    "wingSweepDeg = 42.0 #LE\n",
    "wingSweepRad = np.radians(wingSweepDeg)\n",
    "\n",
    "e - 4.61*(10.0-0.045*AR**0.68)*(np.cos(wingSweepRad))**0.15 - 3.1 #Oswald effiiciency factor for the fighter model\n",
    "k1 = 1.0/(np.pi*e*AR)\n",
    "\n",
    "print('e:', e, 'k1:', k1)\n",
    "\n",
    "def k1SupRaymer(AR, Mach, LESweepRad):\n",
    "    MsqM1 = (Mach**2 - 1.0)\n",
    "    return AR*MsqM1/(4.0*AR*np.sqrt(MsqM1) - 2.0)*np,cos(LESweepRad)\n",
    "\n",
    "print('k1 (supersonic):', k1SupRaymer(AR,1.5,wingSweepRad))\n",
    "\n",
    "CLmaxL0 = 1.24\n",
    "CLmax   = 1.24\n",
    "\n",
    "print('CLmaxL0:', CLmaxL0, 'CLmax:', CLmax)"
   ]
  },
  {
   "attachments": {},
   "cell_type": "markdown",
   "metadata": {},
   "source": [
    "#### *Ranges to Compute and Plot Thrust-to-Weight and Wing Loading ratios:* "
   ]
  },
  {
   "cell_type": "code",
   "execution_count": null,
   "metadata": {},
   "outputs": [],
   "source": [
    "minWtoS = 200.0; maxWtoS = 600.0; incWtoS = 50.0\n",
    "minTslWto = 0.2; maxTslWto = 1.6\n",
    "WtoS = np.arrang(minWtoS, maxWtoS, incWtoS)\n",
    "len = WtoS.size\n",
    "TslWto = np.zeros(len)\n",
    "TslWtoPlot = np.zeros(len)"
   ]
  },
  {
   "attachments": {},
   "cell_type": "markdown",
   "metadata": {},
   "source": [
    "#### *Take-Off Distance = 214m*"
   ]
  },
  {
   "cell_type": "code",
   "execution_count": null,
   "metadata": {},
   "outputs": [],
   "source": [
    "name = 'take-off distance 214m'\n",
    "\n",
    "alpha = alphaMili(0, 0.0, case=2) #take-off afterburner on\n",
    "print('take-off alpha:', alpha)\n",
    "\n",
    "beta = 1.0\n",
    "(theta, delta, sigma) = Atmos(0.0) #at sea level\n",
    "rho = sigma*rho0\n",
    "kL0 = 1.1 #lift-off speed factor\n",
    "sG = 214 #take-off field length"
   ]
  },
  {
   "cell_type": "code",
   "execution_count": null,
   "metadata": {},
   "outputs": [],
   "source": [
    "for i in range(0,len):\n",
    "    TslWto[i] = TslWtoTO(WtoS[i], alpha, beta, rho, CLmaxL0, g0, kL0, sG)"
   ]
  },
  {
   "cell_type": "code",
   "execution_count": null,
   "metadata": {},
   "outputs": [],
   "source": [
    "TslWtoPlot = np.copy(TslWto) #first constraint\n",
    "constraintName = [name]"
   ]
  },
  {
   "cell_type": "code",
   "execution_count": null,
   "metadata": {},
   "outputs": [],
   "source": [
    "#example constraint line\n",
    "plt.xlabel(r'$W_{to}/S$ [Pa]')\n",
    "plt.ylabel(r'$T_{sl}/W_{to}$')\n",
    "plt.title('Constraint Diagram')\n",
    "plt.axis([minWtoS, maxWtoS, minTslWto, maxTslWto])\n",
    "plt.grid(True)\n",
    "plt.plot(WtoS, TslWto, 'b', label=name)\n",
    "plt.legend()\n",
    "plt.savefig('T214.pdf')"
   ]
  },
  {
   "attachments": {},
   "cell_type": "markdown",
   "metadata": {},
   "source": [
    "#### *Take-Off Distance = 428m*"
   ]
  },
  {
   "cell_type": "code",
   "execution_count": null,
   "metadata": {},
   "outputs": [],
   "source": [
    "name = 'take-off distance 428m'\n",
    "\n",
    "alpha = alphaMili(0, 0.0, case=2) #take-off afterburner on\n",
    "print('take-off alpha:', alpha)\n",
    "\n",
    "beta = 1.0\n",
    "(thera, delta, sigma) = Atmos(0.0) #sea level\n",
    "rho = sigma*rho0\n",
    "\n",
    "kL0 = 1.1 #lift-off speed factor\n",
    "sG = 450 #take-off field length [m]"
   ]
  },
  {
   "cell_type": "code",
   "execution_count": null,
   "metadata": {},
   "outputs": [],
   "source": [
    "for i in range(0,len):\n",
    "    TslWto[i] = TslWtoTO(WtoS[i], alpha, beta, rho, CLmaxL0, g0, kL0, sG)"
   ]
  },
  {
   "cell_type": "code",
   "execution_count": null,
   "metadata": {},
   "outputs": [],
   "source": [
    "TslWtoPlot = np.vstack([TslWtoPlot, TslWto]) #adding row\n",
    "constraintName.append(name)"
   ]
  },
  {
   "cell_type": "code",
   "execution_count": null,
   "metadata": {},
   "outputs": [],
   "source": [
    "#exaple constraint line\n",
    "plt.xlabel(r'$W_{to}/S$ [Pa]')\n",
    "plt.ylabel(r'$T_{sl}/W_{to}$')\n",
    "plt.title('Constraint Diagram')\n",
    "plt.axis([minWtoS, maxWtoS, minTslWto, maxTslWto])\n",
    "plt.grid(True)\n",
    "plt.plot(WtoS, TslWto, 'b', label=name)\n",
    "plt.legend()\n",
    "plt.savefig('T0428.pdf')"
   ]
  },
  {
   "attachments": {},
   "cell_type": "markdown",
   "metadata": {},
   "source": [
    "#### __Step 8:__ setting conditions for Supersonic Cruise"
   ]
  },
  {
   "cell_type": "code",
   "execution_count": null,
   "metadata": {},
   "outputs": [],
   "source": [
    "name = 'Supersonic Cruise'\n",
    "\n",
    "height = 5000*ft2m\n",
    "Mach = 1.5\n",
    "alpha = alphaMili(height, Mach, case=1) #afterburner off\n",
    "beta = 0.85\n",
    "\n",
    "(theta, delta, sigma) = Atmos(height)\n",
    "TK = theta*T0\n",
    "p = delta*P0\n",
    "rho = sigma*rho0\n",
    "a = np.sqrt(gamma*R*TK)\n",
    "\n",
    "fpm = 100.0\n",
    "climb = 1/(Mach*a)*fpm*ft2m/60.0\n",
    "k1Sup = k1SupRaymer(AR,Mach,wingSweepRad)"
   ]
  },
  {
   "cell_type": "code",
   "execution_count": null,
   "metadata": {},
   "outputs": [],
   "source": [
    "for i in range(0,len):\n",
    "    TslWto[i] = Master(WtoS[i], alpha, beta, q, Cd0Sup, k1Sup, n=1.0,oneoverVdhdt=climb, oneovergdVdt=0.0)"
   ]
  },
  {
   "cell_type": "code",
   "execution_count": null,
   "metadata": {},
   "outputs": [],
   "source": [
    "TslWtoPlot = np.stack([TslWtoPlot, TslWto]) #adding another row\n",
    "constraintName.append(name)"
   ]
  },
  {
   "cell_type": "code",
   "execution_count": null,
   "metadata": {},
   "outputs": [],
   "source": [
    "#example constraint line\n",
    "plt.xlabel(r'$W_{to}/S$ [Pa]')\n",
    "plt.ylabel(r'$T_{sl}/W_{to}$')\n",
    "plt.title('Constraint Diagram')\n",
    "plt.axis([minWtoS, maxWtoS, minTslWto, maxTslWto])\n",
    "plt.grid(True)\n",
    "plt.plot(WtoS, TslWto, 'b', label=name)\n",
    "plt.legend()\n",
    "plt.savefig('SupersonicCruise.pdf')"
   ]
  },
  {
   "attachments": {},
   "cell_type": "markdown",
   "metadata": {},
   "source": [
    "#### __Step 9:__ setting conditions for the Supersonic Turn"
   ]
  },
  {
   "cell_type": "code",
   "execution_count": null,
   "metadata": {},
   "outputs": [],
   "source": [
    "name = 'Supersonic Turn'\n",
    "\n",
    "height = 30000*ft2m\n",
    "Mach = 1.5\n",
    "alpha = alphaMili(height, Mach, 2) #afterburner on\n",
    "beta = 0.80\n",
    "\n",
    "(theta, delta, sigma,) = Atmos(height)\n",
    "TK = theta*T0\n",
    "p = delta*P0\n",
    "rho = sigma*rho0\n",
    "a = np.sqrt(gamma*R*TK)\n",
    "q = 0.5*rho*(Mach*a)**2\n",
    "\n",
    "k1Sup = k1SupRaymer(AR, Mach, wingSweepRad)"
   ]
  },
  {
   "cell_type": "code",
   "execution_count": null,
   "metadata": {},
   "outputs": [],
   "source": [
    "for i in range(0,len):\n",
    "    TslWto[i] = Master(WtoS[i], alpha, beta, q, Cd0Sup, k1Sup, n=5.0, oneoverVdhdt=0.0, oneovergdVdt=0.0)"
   ]
  },
  {
   "cell_type": "code",
   "execution_count": null,
   "metadata": {},
   "outputs": [],
   "source": [
    "TslWtoPlot = np.stack([TslWtoPlot, TslWto]) #adding another row\n",
    "constraintName.append(name)"
   ]
  },
  {
   "cell_type": "code",
   "execution_count": null,
   "metadata": {},
   "outputs": [],
   "source": [
    "#example constraint line\n",
    "plt.xlabel(r'$W_{to}/S$ [Pa]')\n",
    "plt.ylabel(r'$T_{sl}/W_{to}$')\n",
    "plt.title('Constraint Diagram')\n",
    "plt.axis([minWtoS, maxWtoS, minTslWto, maxTslWto])\n",
    "plt.grid(True)\n",
    "plt.plot(WtoS, TslWto, 'b', label=name)\n",
    "plt.legend()\n",
    "plt.savefig('SupersonicTurn.pdf')"
   ]
  },
  {
   "attachments": {},
   "cell_type": "markdown",
   "metadata": {},
   "source": [
    "#### __Step 10:__ setting conditions for the Subsonic Turn"
   ]
  },
  {
   "cell_type": "code",
   "execution_count": null,
   "metadata": {},
   "outputs": [],
   "source": [
    "name = 'Subsonic Turn'\n",
    "\n",
    "height = 15000*ft2m\n",
    "Mach = 0.9\n",
    "alpha = alphaMili(height, Mach, 2) #afterburner on\n",
    "beta = 0.75\n",
    "\n",
    "(theta, delta, sigma) = Atmos(height)\n",
    "TK = theta*T0\n",
    "p = delta*P0\n",
    "rho = sigma*rho0\n",
    "a = np.sqrt(gamma*R*TK)\n",
    "q = 0.5*rho*(Mach*a)**2"
   ]
  },
  {
   "cell_type": "code",
   "execution_count": null,
   "metadata": {},
   "outputs": [],
   "source": [
    "for i in range(0,len):\n",
    "    TslWto[i] = Master(WtoS[i], alpha, beta, q, Cd0, k1, n=8.0, oneoverVdhdt=0.0, oneovergdVdt=0.0)"
   ]
  },
  {
   "cell_type": "code",
   "execution_count": null,
   "metadata": {},
   "outputs": [],
   "source": [
    "TslWtoPlot = np.stack([TslWtoPlot, TslWto]) #adding another row\n",
    "constraintName.append(name)"
   ]
  },
  {
   "cell_type": "code",
   "execution_count": null,
   "metadata": {},
   "outputs": [],
   "source": [
    "#example constraint line\n",
    "plt.xlabel(r'$W_{to}/S$ [Pa]')\n",
    "plt.ylabel(r'$T_{sl}/W_{to}$')\n",
    "plt.title('Constraint Diagram')\n",
    "plt.axis([minWtoS, maxWtoS, minTslWto, maxTslWto])\n",
    "plt.grid(True)\n",
    "plt.plot(WtoS, TslWto, 'b', label=name)\n",
    "plt.legend()\n",
    "plt.savefig('SubsonicTurn.pdf')"
   ]
  },
  {
   "attachments": {},
   "cell_type": "markdown",
   "metadata": {},
   "source": [
    "#### __Step 11:__ setting conditions for Landing "
   ]
  },
  {
   "cell_type": "code",
   "execution_count": null,
   "metadata": {},
   "outputs": [],
   "source": [
    "name = 'Landing Distance 450m'\n",
    "beta = 0.75 # max landing weight ratio\n",
    "(theta, delta, sigma) = Atmos(0.0) #sea level\n",
    "rho = sigma*rho0\n",
    "mu = 0.5\n",
    "kL = 1.10 #speed at flair\n",
    "sL  = 450 #ground roll"
   ]
  },
  {
   "cell_type": "code",
   "execution_count": null,
   "metadata": {},
   "outputs": [],
   "source": [
    "for i in range(0,len):\n",
    "    TslWto[i] = Master(WtoS[i], beta, rho, CLmax, mu, g0, kL, sL)"
   ]
  },
  {
   "cell_type": "code",
   "execution_count": null,
   "metadata": {},
   "outputs": [],
   "source": [
    "# store in plot\n",
    "TslWtoPlot = np.vstack([TslWtoPlot, TslWto]) #add row\n",
    "constraintName.append(name)"
   ]
  },
  {
   "cell_type": "code",
   "execution_count": null,
   "metadata": {},
   "outputs": [],
   "source": [
    "#example constraint line\n",
    "plt.xlabel(r'$W_{to}/S$ [Pa]')\n",
    "plt.ylabel(r'$T_{sl}/W_{to}$')\n",
    "plt.title('Constraint Diagram')\n",
    "plt.axis([minWtoS, maxWtoS, minTslWto, maxTslWto])\n",
    "plt.grid(True)\n",
    "plt.plot(WtoS, TslWto, 'b', label=name)\n",
    "plt.legend()\n",
    "plt.savefig('Landing.pdf')"
   ]
  },
  {
   "attachments": {},
   "cell_type": "markdown",
   "metadata": {},
   "source": [
    "#### __Step 12:__ finding the Design Point"
   ]
  },
  {
   "cell_type": "code",
   "execution_count": null,
   "metadata": {},
   "outputs": [],
   "source": [
    "# find max at each wing loading and put it back in TslWto, used for design point DP\n",
    "TslWto = TslWtoPlot.max(axis=0)\n",
    "DPTW = TslWto.min(); loc = TslWto.argmin(); DPWS = WtoS[loc];\n",
    "DPTW *=1.05; DPWS *= 0.98 #adding some small margin, higher T/W, lower wing loading\n",
    "print('Design Point: Wing Loading:', DPWS, 'Pa, T/W:', DPTW)"
   ]
  },
  {
   "attachments": {},
   "cell_type": "markdown",
   "metadata": {},
   "source": [
    "#### __Step 13:__ drawing the final Constraint Diagram"
   ]
  },
  {
   "cell_type": "code",
   "execution_count": null,
   "metadata": {},
   "outputs": [],
   "source": [
    "plt.xlabel(r'$W_{to}/S$ [Pa]')\n",
    "plt.ylabel(r'$T_{sl}/W_{to}$')\n",
    "plt.title('Constraint Diagram')\n",
    "plt.axis([minWtoS, maxWtoS, minTslWto, maxTslWto])\n",
    "plt.grid(True)\n",
    "id = 0\n",
    "\n",
    "for row in TslWtoPlot:\n",
    "    plt.plot(WtoS, row, label=constraintName[id])\n",
    "    id += 1\n",
    "plot.plot(WtoS, TslWto, '--', linewidth=3.0, label='design space')\n",
    "plt.scatter(DPWS, DPTW, alpha=0.3, s=150, c='red', label='design point')\n",
    "\n",
    "# use pandas library to read spreadsheet \n",
    "benchmark = pd.read_csv('benchmarkaircrafthaf.csv')\n",
    "\n",
    "WSBench = benchmark['Wing Loading (Pa)']; TWBench = benchmark['T/W']\n",
    "plt.scatter(WSBench, TWBench, alpha=0.5, s=100, c='blue', label='benchmark a/c')\n",
    "\n",
    "plt.legend(loc='upper right')\n",
    "plt.savefig('interceptorconstraint.pdf')"
   ]
  },
  {
   "cell_type": "code",
   "execution_count": null,
   "metadata": {},
   "outputs": [],
   "source": [
    "benchmark.head(4)"
   ]
  }
 ],
 "metadata": {
  "kernelspec": {
   "display_name": "Python 3",
   "language": "python",
   "name": "python3"
  },
  "language_info": {
   "name": "python",
   "version": "3.10.4"
  },
  "orig_nbformat": 4
 },
 "nbformat": 4,
 "nbformat_minor": 2
}
